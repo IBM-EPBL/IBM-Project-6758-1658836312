from tensorflow.keras.models import load_model
from keras.preprocessing import image
model = load_model("nutrition.h5")
from flask import Flask,render_template,request
import os
import numpy as np
from tensorflow.keras.models import load_model
from tensorflow.keras.preprocessing import image
import requests
app= Flask(__name__,template_folder="templates")
model=load_model('nutrition.h5')
print("Loaded model from disk")
