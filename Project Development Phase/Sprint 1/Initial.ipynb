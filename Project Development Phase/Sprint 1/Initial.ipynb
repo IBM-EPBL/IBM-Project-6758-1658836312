!conda install --yes keras
!conda install --yes tensorflow
from keras.preprocessing.image import ImageDataGenerator
train_datagen=ImageDataGenerator(rescale=1./255,shear_range=0.2,zoom_range=0.2,horizontal_flip=True)
test_datagen=ImageDataGenerator(rescale=1./255)
x_train=train_datagen.flow_from_directory(r'C:\Users\HARIHARAN\PycharmProjects\AI Analyzer for fitness enthusiasts\TRAIN_SET',target_size=(64, 64),batch_size=5,color_mode='rgb',class_mode='sparse')
x_test=test_datagen.flow_from_directory(r'C:\Users\HARIHARAN\PycharmProjects\AI Analyzer for fitness enthusiasts\TEST_SET',target_size=(64, 64),batch_size=5,color_mode='rgb',class_mode='sparse')
print(x_train.class_indices)
print(x_test.class_indices)
