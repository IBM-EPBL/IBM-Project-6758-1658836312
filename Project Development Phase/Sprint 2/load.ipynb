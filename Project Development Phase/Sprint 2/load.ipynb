from collections import Counter as c
c(x_train.labels)
import numpy as np
import tensorflow
from tensorflow.keras.models import Sequential
from tensorflow.keras import layers
from tensorflow.keras.layers import Dense,Flatten
from tensorflow.keras.layers import Conv2D,MaxPooling2D,Dropout
from keras.preprocessing.image import ImageDataGenerator
model=Sequential()
classifier=Sequential()
classifier.add(Conv2D(32, (3, 3), input_shape=(64, 64 ,3), activation='relu'))
classifier.add(MaxPooling2D(pool_size=(2, 2)))
classifier.add(Conv2D(32, (3, 3), activation='relu'))
classifier.add(Flatten())
classifier.add(Dense(units=128, activation='relu'))
classifier.add(Dense(units=5, activation='softmax'))
classifier.summary()
classifier.compile(optimizer='adam', loss='sparse_categorical_crossentropy',metrics=['accuracy'])
classifier.save('nutrition.h5')
